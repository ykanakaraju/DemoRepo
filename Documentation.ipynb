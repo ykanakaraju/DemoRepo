{
 "cells": [
  {
   "cell_type": "markdown",
   "metadata": {
    "application/vnd.databricks.v1+cell": {
     "cellMetadata": {},
     "inputWidgets": {},
     "nuid": "fa19fb6d-59c8-4bec-8a66-8753c2ed016d",
     "showTitle": false,
     "tableResultSettingsMap": {},
     "title": ""
    }
   },
   "source": [
    "##### 1. Create an access token in your github account.\n",
    "\n",
    "  - Open your github account\n",
    "  - Click on your account icon (top-right icon) and select `Settings` option\n",
    "  - Click on `Developer settings` option from left side menu (towards the end)\n",
    "  - Click on `Personal access tokens` -> `Tokens (classic)` from left menu\n",
    "  - Select `Generate new token` -> `Generate new token (classic)` option from the dropdown (top-right)\n",
    "  - Create a token with the following options:\n",
    "    - Name: Demo Token\n",
    "    - Expiration: 7 days\n",
    "    - Select scopes: Click on `repo` checkbox\n",
    "    - Click on `Generate token` button\n",
    "  - Copy the token and keep it somewhere\n",
    "    - Token : `<TOKEN>`"
   ]
  },
  {
   "cell_type": "markdown",
   "metadata": {
    "application/vnd.databricks.v1+cell": {
     "cellMetadata": {},
     "inputWidgets": {},
     "nuid": "7c69e45e-e878-4679-963f-fb651a1e7c2f",
     "showTitle": false,
     "tableResultSettingsMap": {},
     "title": ""
    }
   },
   "source": [
    "##### 2. Create a github linked account in your databricks workspace\n",
    "\n",
    "  - Login to your Azure Databricks workspace UI\n",
    "  - Click on your account icon (top-right icon) and select `Settings` option\n",
    "  - Click on `Linked accounts` option from the left-side menu\n",
    "  - Create a Linked account as follows:\n",
    "    - Git provider : `Github`\n",
    "    - Select `Personal access token` radio button\n",
    "    - Git provider username or email: `<Your github account name>`\n",
    "    - Token: `<TOKEN>`  (from the previous step)"
   ]
  }
 ],
 "metadata": {
  "application/vnd.databricks.v1+notebook": {
   "computePreferences": null,
   "dashboards": [],
   "environmentMetadata": {
    "base_environment": "",
    "environment_version": "2"
   },
   "inputWidgetPreferences": null,
   "language": "python",
   "notebookMetadata": {
    "pythonIndentUnit": 4
   },
   "notebookName": "Documentation",
   "widgets": {}
  },
  "language_info": {
   "name": "python"
  }
 },
 "nbformat": 4,
 "nbformat_minor": 0
}
